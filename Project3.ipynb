{
  "nbformat": 4,
  "nbformat_minor": 0,
  "metadata": {
    "colab": {
      "provenance": []
    },
    "kernelspec": {
      "name": "python3",
      "display_name": "Python 3"
    },
    "language_info": {
      "name": "python"
    }
  },
  "cells": [
    {
      "cell_type": "code",
      "execution_count": null,
      "metadata": {
        "id": "yheRHiK2ySfb"
      },
      "outputs": [],
      "source": [
        "# Import file and unzip\n",
        "\n",
        "from zipfile import ZipFile\n",
        "\n",
        "with ZipFile('P3listingspain.zip', 'r') as zip_object:\n",
        "  zip_object.extractall()"
      ]
    },
    {
      "cell_type": "code",
      "source": [
        "# Import necessary libraries\n",
        "\n",
        "import pandas as pd\n",
        "import matplotlib.pyplot as plt\n",
        "import seaborn as sns\n",
        "import numpy as np\n",
        "import ast\n",
        "\n",
        "# Reading files, making alterations to data and creating a 'city' column for machine learning\n",
        "\n",
        "df_malaga = pd.read_csv('listings.csv mlg.gz', decimal =\".\", thousands = \",\")\n",
        "df_barcelona = pd.read_csv('listings.csv bcn.gz', decimal =\".\", thousands = \",\")\n",
        "df_euskadi = pd.read_csv('listings.csv eusk.gz', decimal =\".\", thousands = \",\")\n",
        "df_madrid = pd.read_csv('listings.csv. mad.gz', decimal =\".\", thousands = \",\")\n",
        "df_mallorca = pd.read_csv('listings.csv mllc.gz', decimal =\".\", thousands = \",\")\n",
        "df_menorca = pd.read_csv('listings.csv mnc.gz', decimal =\".\", thousands = \",\")\n",
        "df_valencia = pd.read_csv('listings.csv val.gz', decimal =\".\", thousands = \",\")\n",
        "\n",
        "df_malaga['price'] = df_malaga['price'].str.replace('$', '')\n",
        "df_malaga['price'] = df_malaga['price'].str.replace(',', '')\n",
        "df_malaga['price'] = pd.to_numeric(df_malaga['price'])\n",
        "df_malaga['city'] = 'malaga'\n",
        "df_malaga = df_malaga.dropna(subset=['neighbourhood_cleansed'])\n",
        "del df_malaga['neighbourhood_group_cleansed']\n",
        "\n",
        "df_barcelona['price'] = df_barcelona['price'].str.replace('$', '')\n",
        "df_barcelona['price'] = df_barcelona['price'].str.replace(',', '')\n",
        "df_barcelona['price'] = pd.to_numeric(df_barcelona['price'])\n",
        "df_barcelona['city'] = 'barcelona'\n",
        "df_barcelona = df_barcelona.dropna(subset=['neighbourhood_cleansed'])\n",
        "del df_barcelona['neighbourhood_group_cleansed']\n",
        "\n",
        "df_euskadi['price'] = df_euskadi['price'].str.replace('$', '')\n",
        "df_euskadi['price'] = df_euskadi['price'].str.replace(',', '')\n",
        "df_euskadi['price'] = pd.to_numeric(df_euskadi['price'])\n",
        "df_euskadi['city'] = 'euskadi'\n",
        "df_euskadi = df_euskadi.dropna(subset=['neighbourhood_cleansed'])\n",
        "del df_euskadi['neighbourhood_group_cleansed']\n",
        "\n",
        "df_madrid['price'] = df_madrid['price'].str.replace('$', '')\n",
        "df_madrid['price'] = df_madrid['price'].str.replace(',', '')\n",
        "df_madrid['price'] = pd.to_numeric(df_madrid['price'])\n",
        "df_madrid['city'] = 'madrid'\n",
        "df_madrid = df_madrid.dropna(subset=['neighbourhood_cleansed'])\n",
        "del df_madrid['neighbourhood_group_cleansed']\n",
        "\n",
        "df_mallorca['price'] = df_mallorca['price'].str.replace('$', '')\n",
        "df_mallorca['price'] = df_mallorca['price'].str.replace(',', '')\n",
        "df_mallorca['price'] = pd.to_numeric(df_mallorca['price'])\n",
        "df_mallorca['city'] = 'mallorca'\n",
        "df_mallorca = df_mallorca.dropna(subset=['neighbourhood_cleansed'])\n",
        "del df_mallorca['neighbourhood_group_cleansed']\n",
        "\n",
        "df_menorca['price'] = df_menorca['price'].str.replace('$', '')\n",
        "df_menorca['price'] = df_menorca['price'].str.replace(',', '')\n",
        "df_menorca['price'] = pd.to_numeric(df_menorca['price'])\n",
        "df_menorca['city'] = 'menorca'\n",
        "df_menorca = df_menorca.dropna(subset=['neighbourhood_cleansed'])\n",
        "del df_menorca['neighbourhood_group_cleansed']\n",
        "\n",
        "df_valencia['price'] = df_valencia['price'].str.replace('$', '')\n",
        "df_valencia['price'] = df_valencia['price'].str.replace(',', '')\n",
        "df_valencia['price'] = pd.to_numeric(df_valencia['price'])\n",
        "df_valencia['city'] = 'valencia'\n",
        "df_valencia = df_valencia.dropna(subset=['neighbourhood_cleansed'])\n",
        "del df_valencia['neighbourhood_group_cleansed']"
      ],
      "metadata": {
        "colab": {
          "base_uri": "https://localhost:8080/"
        },
        "id": "whnC7XONzMKs",
        "outputId": "07540cf5-a4a1-4bb6-d9a3-0025befe8938"
      },
      "execution_count": null,
      "outputs": [
        {
          "output_type": "stream",
          "name": "stderr",
          "text": [
            "<ipython-input-126-e1936950e6b4>:19: FutureWarning: The default value of regex will change from True to False in a future version. In addition, single character regular expressions will *not* be treated as literal strings when regex=True.\n",
            "  df_malaga['price'] = df_malaga['price'].str.replace('$', '')\n",
            "<ipython-input-126-e1936950e6b4>:26: FutureWarning: The default value of regex will change from True to False in a future version. In addition, single character regular expressions will *not* be treated as literal strings when regex=True.\n",
            "  df_barcelona['price'] = df_barcelona['price'].str.replace('$', '')\n",
            "<ipython-input-126-e1936950e6b4>:33: FutureWarning: The default value of regex will change from True to False in a future version. In addition, single character regular expressions will *not* be treated as literal strings when regex=True.\n",
            "  df_euskadi['price'] = df_euskadi['price'].str.replace('$', '')\n",
            "<ipython-input-126-e1936950e6b4>:40: FutureWarning: The default value of regex will change from True to False in a future version. In addition, single character regular expressions will *not* be treated as literal strings when regex=True.\n",
            "  df_madrid['price'] = df_madrid['price'].str.replace('$', '')\n",
            "<ipython-input-126-e1936950e6b4>:47: FutureWarning: The default value of regex will change from True to False in a future version. In addition, single character regular expressions will *not* be treated as literal strings when regex=True.\n",
            "  df_mallorca['price'] = df_mallorca['price'].str.replace('$', '')\n",
            "<ipython-input-126-e1936950e6b4>:54: FutureWarning: The default value of regex will change from True to False in a future version. In addition, single character regular expressions will *not* be treated as literal strings when regex=True.\n",
            "  df_menorca['price'] = df_menorca['price'].str.replace('$', '')\n",
            "<ipython-input-126-e1936950e6b4>:61: FutureWarning: The default value of regex will change from True to False in a future version. In addition, single character regular expressions will *not* be treated as literal strings when regex=True.\n",
            "  df_valencia['price'] = df_valencia['price'].str.replace('$', '')\n"
          ]
        }
      ]
    },
    {
      "cell_type": "code",
      "source": [
        "# Merging all the seperate files into one and then narrowing down the data for machine learning\n",
        "\n",
        "df_spain = pd.merge(df_malaga, df_barcelona, how='outer')\n",
        "df_spain = pd.merge(df_spain, df_euskadi, how='outer')\n",
        "df_spain = pd.merge(df_spain, df_madrid, how='outer')\n",
        "df_spain = pd.merge(df_spain, df_mallorca, how='outer')\n",
        "df_spain = pd.merge(df_spain, df_menorca, how='outer')\n",
        "df_spain = pd.merge(df_spain, df_valencia, how='outer')\n",
        "\n",
        "df_spain = df_spain[df_spain['price'] <= 250]\n",
        "df_spain = df_spain[df_spain['price'] >= 75]\n",
        "df_spain = df_spain[df_spain['accommodates'] <= 6]\n",
        "df_spain = df_spain[df_spain['bedrooms'] <= 3]\n",
        "df_spain = df_spain[df_spain['room_type'] == 'Entire home/apt']"
      ],
      "metadata": {
        "id": "UXx5kUN8zRqv"
      },
      "execution_count": null,
      "outputs": []
    },
    {
      "cell_type": "code",
      "source": [
        "from sklearn.model_selection import train_test_split, KFold, cross_val_score\n",
        "from sklearn.preprocessing import StandardScaler\n",
        "from sklearn.feature_selection import SelectFromModel\n",
        "from sklearn.metrics import accuracy_score, f1_score, classification_report, r2_score\n",
        "from sklearn.impute import SimpleImputer\n",
        "from sklearn.preprocessing import LabelEncoder, OneHotEncoder\n",
        "from sklearn import preprocessing\n",
        "from sklearn.ensemble import RandomForestRegressor, AdaBoostRegressor, GradientBoostingRegressor, BaggingRegressor, VotingRegressor\n",
        "from sklearn.linear_model import LinearRegression, LogisticRegression, SGDRegressor, Ridge, Lasso, ElasticNet, HuberRegressor, PassiveAggressiveRegressor, TheilSenRegressor\n",
        "from sklearn.svm import SVR\n",
        "from sklearn.neighbors import KNeighborsRegressor\n",
        "from sklearn.gaussian_process import GaussianProcessRegressor\n",
        "from sklearn.neural_network import MLPRegressor\n",
        "from sklearn.tree import DecisionTreeRegressor"
      ],
      "metadata": {
        "id": "Wz4gnWg71etF"
      },
      "execution_count": null,
      "outputs": []
    },
    {
      "cell_type": "code",
      "source": [
        "# Encoding data to prepare it for machine learning\n",
        "\n",
        "lbl_enc = LabelEncoder()\n",
        "oht_enc = OneHotEncoder()\n",
        "\n",
        "df_spain['price'] = df_spain['price'].astype(int)\n",
        "\n",
        "df_spain['instant_bookable'] = df_spain['instant_bookable'].replace('f', 0)\n",
        "df_spain['instant_bookable'] = df_spain['instant_bookable'].replace('t', 1)\n",
        "\n",
        "df_spain['host_is_superhost'] = df_spain['host_is_superhost'].replace('f', 0)\n",
        "df_spain['host_is_superhost'] = df_spain['host_is_superhost'].replace('t', 1)\n",
        "\n",
        "df_spain['bathrooms_encoded'] = lbl_enc.fit_transform(df_spain['bathrooms_text'])\n",
        "\n",
        "df_spain['neighbourhood_encoded'] = lbl_enc.fit_transform(df_spain['neighbourhood_cleansed'])\n",
        "\n",
        "df_spain['review_scores_encoded'] = lbl_enc.fit_transform(df_spain['review_scores_rating'])\n",
        "\n",
        "df_spain['city_encoded'] = lbl_enc.fit_transform(df_spain['city'])\n",
        "\n",
        "df_spain['room_type_encoded'] = lbl_enc.fit_transform(df_spain['room_type'])\n",
        "\n",
        "df_spain['host_response_encoded'] = lbl_enc.fit_transform(df_spain['host_response_time'])\n",
        "\n",
        "df_spain['pool'] = df_spain['amenities'].apply(lambda x: 1 if (\"Pool\" in x) or ('pool' in x) else 0)\n",
        "\n",
        "df_spain['wifi'] = df_spain['amenities'].apply(lambda x: 1 if (\"wifi\" in x) or ('Wifi' in x) else 0)\n",
        "\n",
        "df_spain['waterfront'] = df_spain['amenities'].apply(lambda x: 1 if (\"Waterfront\" in x) or ('Beachfront' in x) else 0)\n",
        "\n",
        "df_spain3 = df_spain"
      ],
      "metadata": {
        "id": "XRylf2aT1st8"
      },
      "execution_count": null,
      "outputs": []
    },
    {
      "cell_type": "code",
      "source": [
        "# Choosing features for ML model, splitting data into to training and testing sets and scaling the data\n",
        "\n",
        "df_spain3 = df_spain3[['city_encoded', 'wifi','pool','availability_60','waterfront','calculated_host_listings_count_entire_homes', 'bathrooms_encoded', 'host_total_listings_count', 'beds','latitude','maximum_nights', 'longitude','review_scores_rating','host_is_superhost','instant_bookable','host_response_encoded','review_scores_rating', 'bedrooms','neighbourhood_encoded','accommodates','minimum_nights', 'price']]\n",
        "\n",
        "df_spain3.dropna(inplace=True)\n",
        "\n",
        "X = df_spain3.drop('price', axis=1)\n",
        "y = df_spain3['price']\n",
        "X_train, X_test, y_train, y_test = train_test_split(X, y, test_size=0.2, random_state=42)\n",
        "\n",
        "scaler = StandardScaler()\n",
        "X_train_scaled = scaler.fit_transform(X_train)\n",
        "X_test_scaled = scaler.transform(X_test)"
      ],
      "metadata": {
        "colab": {
          "base_uri": "https://localhost:8080/"
        },
        "id": "t_2b4aisGKrP",
        "outputId": "4ba0b572-f600-4e39-8703-ce16a68809cd"
      },
      "execution_count": null,
      "outputs": [
        {
          "output_type": "stream",
          "name": "stderr",
          "text": [
            "<ipython-input-131-19b6c6e38c01>:5: SettingWithCopyWarning: \n",
            "A value is trying to be set on a copy of a slice from a DataFrame\n",
            "\n",
            "See the caveats in the documentation: https://pandas.pydata.org/pandas-docs/stable/user_guide/indexing.html#returning-a-view-versus-a-copy\n",
            "  df_spain3.dropna(inplace=True)\n"
          ]
        }
      ]
    },
    {
      "cell_type": "code",
      "source": [
        "# RandomForestRegressor, training the model, finding feature importances, printing tests data along with\n",
        "# predicitons and calculating what percantage of the predictions are within the given threshold\n",
        "\n",
        "model = RandomForestRegressor(n_estimators=50,random_state=42, criterion='poisson')\n",
        "model.fit(X_train_scaled, y_train)\n",
        "pred_train = model.predict(X_train_scaled)\n",
        "pred_test = model.predict(X_test_scaled)\n",
        "\n",
        "feature_importances = model.feature_importances_\n",
        "feature_names = X.columns\n",
        "importance_dict = dict(zip(feature_names, feature_importances))\n",
        "sorted_importance = sorted(importance_dict.items(), key=lambda x: x[1], reverse=True)\n",
        "for feature, importance in sorted_importance:\n",
        "    print(f\"{feature}: {importance}\")\n",
        "\n",
        "print('-' * 30)\n",
        "\n",
        "results = pd.DataFrame({'Actual': y_test, 'Predicted': pred_test})\n",
        "print(results.head(25))\n",
        "\n",
        "print('-' * 30)\n",
        "\n",
        "percentage_diff = np.abs((y_test - pred_test) / y_test * 100)\n",
        "percentage_threshold = 25\n",
        "within_percentage_threshold = percentage_diff <= percentage_threshold\n",
        "percentage_within_threshold = (within_percentage_threshold.sum() / len(y_test)) * 100\n",
        "print('Percentage of predictions within 20%:',percentage_within_threshold)\n"
      ],
      "metadata": {
        "colab": {
          "base_uri": "https://localhost:8080/"
        },
        "id": "Uc7sGaWVuYY2",
        "outputId": "98c415b3-edeb-47b7-dc0b-1d5a3eded783"
      },
      "execution_count": null,
      "outputs": [
        {
          "output_type": "stream",
          "name": "stdout",
          "text": [
            "longitude: 0.19683017422603236\n",
            "latitude: 0.1251999855444253\n",
            "bathrooms_encoded: 0.12069886686014102\n",
            "availability_60: 0.08024624969759948\n",
            "host_total_listings_count: 0.07270080779369831\n",
            "calculated_host_listings_count_entire_homes: 0.06250355525844031\n",
            "minimum_nights: 0.06237539010682465\n",
            "neighbourhood_encoded: 0.03781467439881228\n",
            "maximum_nights: 0.03216907454157426\n",
            "accommodates: 0.027822274502472766\n",
            "bedrooms: 0.025410330924997882\n",
            "beds: 0.021858040489598454\n",
            "review_scores_rating: 0.018712007987610666\n",
            "host_response_encoded: 0.016513588361849088\n",
            "pool: 0.01210828282228575\n",
            "instant_bookable: 0.009556155605595478\n",
            "host_is_superhost: 0.0077387539310362205\n",
            "waterfront: 0.006734059596461212\n",
            "wifi: 0.0038084917688574332\n",
            "city_encoded: 0.0028553529288921618\n",
            "------------------------------\n",
            "       Actual  Predicted\n",
            "18698   183.0     188.90\n",
            "22606    97.0     104.28\n",
            "17445   223.0     175.88\n",
            "2907    105.0     110.16\n",
            "13619   117.0     125.48\n",
            "21304   145.0     150.68\n",
            "26311   169.0     136.58\n",
            "15028   199.0     151.12\n",
            "11932   115.0     134.06\n",
            "4282    217.0     186.58\n",
            "14103    86.0     100.10\n",
            "13141   196.0     188.76\n",
            "3834    181.0     177.34\n",
            "9072    181.0     173.88\n",
            "21979   191.0     185.80\n",
            "15533    82.0     147.40\n",
            "428     139.0     110.88\n",
            "25741   164.0     159.68\n",
            "3282    114.0     114.24\n",
            "2904    110.0      92.34\n",
            "23916   194.0     137.28\n",
            "6777    233.0     213.64\n",
            "2346    100.0      90.14\n",
            "2533    113.0     132.02\n",
            "26319    81.0     124.06\n",
            "------------------------------\n",
            "Percentage of predictions within 20%: 72.29484386347131\n"
          ]
        }
      ]
    }
  ]
}